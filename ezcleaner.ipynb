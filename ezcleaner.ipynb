{
 "cells": [
  {
   "cell_type": "code",
   "execution_count": 2,
   "id": "01868dcc",
   "metadata": {},
   "outputs": [],
   "source": [
    "import cv2\n",
    "import os\n",
    "import shutil"
   ]
  },
  {
   "cell_type": "code",
   "execution_count": 42,
   "id": "75bc855d",
   "metadata": {},
   "outputs": [],
   "source": [
    "basePath = \"../TraffyFondue/train\"\n",
    "unusedPath = \"../TraffyFondue/unused\""
   ]
  },
  {
   "cell_type": "code",
   "execution_count": 49,
   "id": "f1348002",
   "metadata": {},
   "outputs": [
    {
     "name": "stdout",
     "output_type": "stream",
     "text": [
      "['traffic', 'sidewalk', 'sanitary', 'sewer', 'road', 'canal', 'light', 'electric', 'flooding', 'stray']\n"
     ]
    }
   ],
   "source": [
    "print(os.listdir(basePath))"
   ]
  },
  {
   "cell_type": "code",
   "execution_count": 67,
   "id": "005075ce",
   "metadata": {},
   "outputs": [],
   "source": [
    "def changeLabel(fpath, fnames, label) :\n",
    "    fname = fpath.split('/')[-1]\n",
    "    fnames.remove(fname)\n",
    "    shutil.move(fpath, basePath + '/' + label + '/' + fname)\n",
    "\n",
    "def deleteFile(fpath, fname) :\n",
    "    fname = fpath.split('/')[-1]\n",
    "    fnames.remove(fname)\n",
    "    shutil.move(fpath, unusedPath + '/' + fname)\n",
    "\n",
    "def permaDeleteFile(fpath, fname) :\n",
    "    fname = fpath.split('/')[-1]\n",
    "    fnames.remove(fname)\n",
    "    os.remove(fpath)\n",
    "    \n",
    "labelKeyMap = {\n",
    "    '!': 'sidewalk',\n",
    "    '@': 'sanitary',\n",
    "    '#': 'sewer',\n",
    "    '$': 'road',\n",
    "    '%': 'canal',\n",
    "    '^': 'light',\n",
    "    '&': 'electric',\n",
    "    '*': 'flooding',\n",
    "    '(': 'stray',\n",
    "    ')': 'traffic',\n",
    "}"
   ]
  },
  {
   "cell_type": "code",
   "execution_count": 71,
   "id": "ccbb932b",
   "metadata": {},
   "outputs": [
    {
     "name": "stdout",
     "output_type": "stream",
     "text": [
      "last pos: 76\n"
     ]
    }
   ],
   "source": [
    "subPath = 'road'\n",
    "imgDir = basePath + '/' + subPath\n",
    "#imgDir = '../testim'\n",
    "fnames = os.listdir(imgDir)\n",
    "pos = 53\n",
    "if len(fnames) == 0 :\n",
    "    raise Exception(\"empty folder\")\n",
    "    \n",
    "# Create a OpenCV Window\n",
    "windowName = 'Cleannnnnn'\n",
    "cv2.namedWindow(windowName)\n",
    "\n",
    "while True :\n",
    "    decIter = lambda p : max(0, p-1)\n",
    "    incIter = lambda p : min(len(fnames)-1, p+1)\n",
    "    boundIter = lambda p : max(0, min(len(fnames)-1, p))\n",
    "    \n",
    "    pos = boundIter(pos)\n",
    "    imgPath = imgDir + '/' + fnames[pos]\n",
    "    img = cv2.imread(imgPath)\n",
    "    img = cv2.putText(\n",
    "      img = img,\n",
    "      text = f\"{pos}/{len(fnames)}\",\n",
    "      org = (50, 150),\n",
    "      fontFace = cv2.FONT_HERSHEY_DUPLEX,\n",
    "      fontScale = 3.0,\n",
    "      color = (125, 246, 55),\n",
    "      thickness = 3\n",
    "    )\n",
    "    cv2.imshow(windowName, img)\n",
    "\n",
    "    # Break the loop if 'q' is pressed\n",
    "    wkey = cv2.waitKey(1) & 0xFF\n",
    "    if chr(wkey) == 'q':\n",
    "        break\n",
    "    elif wkey == ord(',') :\n",
    "        pos = decIter(pos)\n",
    "        wkey = 0\n",
    "        continue\n",
    "    elif wkey == ord('.') :\n",
    "        pos = incIter(pos)\n",
    "        wkey = 0\n",
    "        continue\n",
    "    elif wkey == ord('?') :\n",
    "        deleteFile(imgPath, fnames)\n",
    "        wkey = 0\n",
    "        continue\n",
    "    elif chr(wkey) in labelKeyMap.keys() :\n",
    "        label = labelKeyMap[chr(wkey)]\n",
    "        if label == subPath :\n",
    "            continue\n",
    "        changeLabel(imgPath, fnames, label)\n",
    "        wkey = 0\n",
    "        continue\n",
    "    elif wkey == ord('X') :\n",
    "        permaDeleteFile(imgPath, fnames)\n",
    "        wkey = 0\n",
    "        continue\n",
    "\n",
    "# Release the webcam and close the window\n",
    "cv2.destroyAllWindows()\n",
    "cv2.waitKey(1)\n",
    "print(f\"last pos: {pos}\")\n",
    "with open(\"cleaner_last_pos.txt\", 'a') as f :\n",
    "    f.write(f\"\\n{subPath} {pos}\")\n",
    "    f.close()"
   ]
  },
  {
   "cell_type": "code",
   "execution_count": null,
   "id": "ff5c591a",
   "metadata": {},
   "outputs": [],
   "source": [
    "# 76"
   ]
  }
 ],
 "metadata": {
  "kernelspec": {
   "display_name": "Python 3 (ipykernel)",
   "language": "python",
   "name": "python3"
  },
  "language_info": {
   "codemirror_mode": {
    "name": "ipython",
    "version": 3
   },
   "file_extension": ".py",
   "mimetype": "text/x-python",
   "name": "python",
   "nbconvert_exporter": "python",
   "pygments_lexer": "ipython3",
   "version": "3.9.13"
  }
 },
 "nbformat": 4,
 "nbformat_minor": 5
}
