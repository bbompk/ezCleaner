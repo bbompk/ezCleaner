{
 "cells": [
  {
   "cell_type": "code",
   "execution_count": 93,
   "id": "01868dcc",
   "metadata": {},
   "outputs": [],
   "source": [
    "import cv2\n",
    "import os\n",
    "import shutil\n",
    "import sys"
   ]
  },
  {
   "cell_type": "code",
   "execution_count": 94,
   "id": "15c28f5a",
   "metadata": {},
   "outputs": [],
   "source": [
    "basePath = \"../TraffyFondue/train\"\n",
    "unusedPath = \"../TraffyFondue/unused\""
   ]
  },
  {
   "cell_type": "code",
   "execution_count": 95,
   "id": "e02266a3",
   "metadata": {},
   "outputs": [
    {
     "name": "stdout",
     "output_type": "stream",
     "text": [
      "['traffic', 'sidewalk', 'sanitary', 'sewer', 'road', 'canal', 'light', 'electric', 'flooding', 'stray']\n"
     ]
    }
   ],
   "source": [
    "ls = os.listdir(basePath)\n",
    "if sys.platform == 'darwin' and '.DS_Store' in ls : \n",
    "    ls.remove('.DS_Store')\n",
    "print(ls)"
   ]
  },
  {
   "cell_type": "code",
   "execution_count": 116,
   "id": "1d8edf70",
   "metadata": {},
   "outputs": [],
   "source": [
    "def changeLabel(fpath, fnames, label) :\n",
    "    fname = fpath.split('/')[-1]\n",
    "    fnames.remove(fname)\n",
    "    newPath = basePath + '/' + label + '/' + fname\n",
    "    shutil.move(fpath, newPath)\n",
    "    return newPath\n",
    "\n",
    "def deleteFile(fpath, fnames) :\n",
    "    fname = fpath.split('/')[-1]\n",
    "    fnames.remove(fname)\n",
    "    newPath = unusedPath + '/' + fname\n",
    "    shutil.move(fpath, newPath)\n",
    "    return newPath\n",
    "\n",
    "def permaDeleteFile(fpath, fnames) :\n",
    "    fname = fpath.split('/')[-1]\n",
    "    fnames.remove(fname)\n",
    "    os.remove(fpath)\n",
    "    \n",
    "def restoreFile(lastPath, newPath) :\n",
    "    shutil.move(newPath, lastPath)\n",
    "    \n",
    "labelKeyMap = {\n",
    "    '!': 'sidewalk',\n",
    "    '@': 'sanitary',\n",
    "    '#': 'sewer',\n",
    "    '$': 'road',\n",
    "    '%': 'canal',\n",
    "    '^': 'light',\n",
    "    '&': 'electric',\n",
    "    '*': 'flooding',\n",
    "    '(': 'stray',\n",
    "    ')': 'traffic',\n",
    "}"
   ]
  },
  {
   "cell_type": "code",
   "execution_count": 115,
   "id": "ccbb932b",
   "metadata": {},
   "outputs": [
    {
     "name": "stdout",
     "output_type": "stream",
     "text": [
      "last pos: 282\n"
     ]
    }
   ],
   "source": [
    "# Specifify folder to explore and image index to open \n",
    "subPath = 'sidewalk'\n",
    "pos = 282\n",
    "\n",
    "imgDir = basePath + '/' + subPath\n",
    "# imgDir = '../testim'\n",
    "fnames = os.listdir(imgDir)\n",
    "if sys.platform == 'darwin' and '.DS_Store' in fnames: \n",
    "    fnames.remove('.DS_Store')\n",
    "\n",
    "# Check if path exists\n",
    "if len(fnames) == 0 :\n",
    "    raise Exception(\"empty folder\")\n",
    "if not os.path.exists(unusedPath) :\n",
    "    os.mkdir(unusedPath)\n",
    "    \n",
    "# Create a OpenCV Window\n",
    "windowName = 'Cleannnnnn'\n",
    "cv2.namedWindow(windowName)\n",
    "\n",
    "last_pos = pos\n",
    "prev_fnames = fnames.copy()\n",
    "lastPath = \"\"\n",
    "newPath = \"\"\n",
    "\n",
    "while True :\n",
    "    decIter = lambda p : max(0, p-1)\n",
    "    incIter = lambda p : min(len(fnames)-1, p+1)\n",
    "    boundIter = lambda p : max(0, min(len(fnames)-1, p))\n",
    "    \n",
    "    pos = boundIter(pos)\n",
    "    imgPath = imgDir + '/' + fnames[pos]\n",
    "    img = cv2.imread(imgPath)\n",
    "    img = cv2.putText(\n",
    "      img = img,\n",
    "      text = f\"{pos}/{len(fnames)-1}\",\n",
    "      org = (50, 150),\n",
    "      fontFace = cv2.FONT_HERSHEY_DUPLEX,\n",
    "      fontScale = 2.7,\n",
    "      color = (125, 246, 55),\n",
    "      thickness = 3\n",
    "    )\n",
    "    cv2.imshow(windowName, img)\n",
    "\n",
    "    # Break the loop if 'q' is pressed\n",
    "    wkey = cv2.waitKey(1) & 0xFF\n",
    "    if chr(wkey) == 'q':\n",
    "        break\n",
    "    # navigate left\n",
    "    elif wkey == ord(',') :\n",
    "        pos = decIter(pos)\n",
    "        wkey = 0\n",
    "        continue\n",
    "    # navigate right\n",
    "    elif wkey == ord('.') :\n",
    "        pos = incIter(pos)\n",
    "        wkey = 0\n",
    "        continue\n",
    "    # temporary delete\n",
    "    elif wkey == ord('?') :\n",
    "        last_pos = pos\n",
    "        prev_fnames = fnames.copy()\n",
    "        lastPath = imgPath\n",
    "        newPath = deleteFile(imgPath, fnames)\n",
    "        wkey = 0\n",
    "        continue\n",
    "    # permanent delete\n",
    "    elif wkey == ord('X') :\n",
    "        permaDeleteFile(imgPath, fnames)\n",
    "        newPath = ''\n",
    "        lastPath = ''\n",
    "        wkey = 0\n",
    "        continue\n",
    "    # edit last move\n",
    "    elif wkey == ord('K') :\n",
    "        if lastPath == '' or newPath == '' :\n",
    "            wkey = 0\n",
    "            continue\n",
    "        fnames = prev_fnames.copy()\n",
    "        restoreFile(lastPath, newPath)\n",
    "        newPath = ''\n",
    "        lastPath = ''\n",
    "        pos = last_pos\n",
    "        wkey = 0\n",
    "        continue\n",
    "    # move to different label folder\n",
    "    elif chr(wkey) in labelKeyMap.keys() :\n",
    "        last_pos = pos\n",
    "        label = labelKeyMap[chr(wkey)]\n",
    "        if label == subPath :\n",
    "            continue\n",
    "        prev_fnames = fnames.copy()\n",
    "        lastPath = imgPath\n",
    "        newPath = changeLabel(imgPath, fnames, label)\n",
    "        wkey = 0\n",
    "        continue\n",
    "\n",
    "# Release the webcam and close the window\n",
    "cv2.destroyAllWindows()\n",
    "cv2.waitKey(1)\n",
    "print(f\"last pos: {pos}\")\n",
    "with open(\"cleaner_last_pos.txt\", 'a') as f :\n",
    "    f.write(f\"\\n{subPath} {pos}\")\n",
    "    f.close()"
   ]
  },
  {
   "cell_type": "code",
   "execution_count": null,
   "id": "89c0aa1a",
   "metadata": {},
   "outputs": [],
   "source": [
    "# 330"
   ]
  },
  {
   "cell_type": "code",
   "execution_count": 88,
   "id": "2e324c8f",
   "metadata": {},
   "outputs": [
    {
     "data": {
      "text/plain": [
       "-1"
      ]
     },
     "execution_count": 88,
     "metadata": {},
     "output_type": "execute_result"
    }
   ],
   "source": []
  }
 ],
 "metadata": {
  "kernelspec": {
   "display_name": "Python 3 (ipykernel)",
   "language": "python",
   "name": "python3"
  },
  "language_info": {
   "codemirror_mode": {
    "name": "ipython",
    "version": 3
   },
   "file_extension": ".py",
   "mimetype": "text/x-python",
   "name": "python",
   "nbconvert_exporter": "python",
   "pygments_lexer": "ipython3",
   "version": "3.9.13"
  }
 },
 "nbformat": 4,
 "nbformat_minor": 5
}
